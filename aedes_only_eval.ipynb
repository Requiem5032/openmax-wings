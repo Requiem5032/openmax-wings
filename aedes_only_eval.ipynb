{
 "cells": [
  {
   "cell_type": "code",
   "execution_count": 1,
   "metadata": {},
   "outputs": [
    {
     "name": "stderr",
     "output_type": "stream",
     "text": [
      "/home/bit/miniforge3/envs/pace-up/lib/python3.11/site-packages/tqdm/auto.py:21: TqdmWarning: IProgress not found. Please update jupyter and ipywidgets. See https://ipywidgets.readthedocs.io/en/stable/user_install.html\n",
      "  from .autonotebook import tqdm as notebook_tqdm\n",
      "INFO:albumentations.check_version:A new version of Albumentations is available: 1.4.22 (you have 1.4.10). Upgrade using: pip install --upgrade albumentations\n"
     ]
    }
   ],
   "source": [
    "import gc\n",
    "import torch\n",
    "import pandas as pd\n",
    "import numpy as np\n",
    "\n",
    "from sklearn.metrics import confusion_matrix\n",
    "from sklearn.metrics import f1_score, precision_score, recall_score, accuracy_score\n",
    "from utils.data_loader import get_data_loaders\n",
    "from utils.xception import Mos_Xception\n",
    "from utils.graph import draw_confusion_matrix"
   ]
  },
  {
   "cell_type": "code",
   "execution_count": 2,
   "metadata": {},
   "outputs": [],
   "source": [
    "device = torch.device('cuda:0')"
   ]
  },
  {
   "cell_type": "code",
   "execution_count": 3,
   "metadata": {},
   "outputs": [],
   "source": [
    "f1_list = []\n",
    "pre_list = []\n",
    "rec_list = []\n",
    "acc_list = []"
   ]
  },
  {
   "cell_type": "code",
   "execution_count": 4,
   "metadata": {},
   "outputs": [],
   "source": [
    "species_list = ['Ae_albopictus', 'Ae_cinereus', 'Ae_communis',\n",
    "                'Ae_punctor', 'Ae_rusticus', 'Ae_sticticus', 'Ae_vexans']"
   ]
  },
  {
   "cell_type": "code",
   "execution_count": 5,
   "metadata": {},
   "outputs": [],
   "source": [
    "y_true_list = []\n",
    "y_pred_list = []"
   ]
  },
  {
   "cell_type": "code",
   "execution_count": 6,
   "metadata": {},
   "outputs": [
    {
     "name": "stderr",
     "output_type": "stream",
     "text": [
      "/home/bit/miniforge3/envs/pace-up/lib/python3.11/site-packages/torch/nn/modules/conv.py:456: UserWarning: Applied workaround for CuDNN issue, install nvrtc.so (Triggered internally at /opt/conda/conda-bld/pytorch_1716905971190/work/aten/src/ATen/native/cudnn/Conv_v8.cpp:84.)\n",
      "  return F.conv2d(input, weight, bias, self.stride,\n"
     ]
    }
   ],
   "source": [
    "for fold in range(1, 6):\n",
    "    model_path = f'model_weights/comparison/aedes_only/fold_{fold}/model.pth'\n",
    "    data_csv_path = f'data/comparison/aedes_only/data_fold_{fold}.csv'\n",
    "\n",
    "    df = pd.read_csv(data_csv_path)\n",
    "    _, val_dl = get_data_loaders(df)\n",
    "\n",
    "    net = Mos_Xception(7)\n",
    "    net.load_state_dict(torch.load(model_path))\n",
    "    net.to(device)\n",
    "    net.eval()\n",
    "\n",
    "    y_true = []\n",
    "    y_pred = []\n",
    "\n",
    "    with torch.no_grad():\n",
    "        for data in val_dl:\n",
    "            x = data[0].to(device)\n",
    "            y = data[1].numpy()\n",
    "            out = net(x).cpu().numpy()\n",
    "\n",
    "            for logits, label in zip(out, y):\n",
    "                y_true.append(label)\n",
    "                y_pred.append(np.argmax(logits))\n",
    "\n",
    "    f1 = f1_score(y_true, y_pred, average='macro')\n",
    "    pre = precision_score(y_true, y_pred, average='macro')\n",
    "    rec = recall_score(y_true, y_pred, average='macro')\n",
    "    acc = accuracy_score(y_true, y_pred)\n",
    "\n",
    "    y_true_list.append(y_true)\n",
    "    y_pred_list.append(y_pred)\n",
    "\n",
    "    f1_list.append(f1)\n",
    "    pre_list.append(pre)\n",
    "    rec_list.append(rec)\n",
    "    acc_list.append(acc)\n",
    "\n",
    "    del net\n",
    "    gc.collect()\n",
    "    torch.cuda.empty_cache()"
   ]
  },
  {
   "cell_type": "code",
   "execution_count": 7,
   "metadata": {},
   "outputs": [],
   "source": [
    "y_true_list = sum(y_true_list, [])\n",
    "y_pred_list = sum(y_pred_list, [])"
   ]
  },
  {
   "cell_type": "code",
   "execution_count": 8,
   "metadata": {},
   "outputs": [],
   "source": [
    "results_df = pd.DataFrame()\n",
    "results_df['y_true'] = y_true_list\n",
    "results_df['y_pred'] = y_pred_list\n",
    "results_df.to_csv('results/closed/aedes_only/prediction.csv', index=False)"
   ]
  },
  {
   "cell_type": "code",
   "execution_count": 9,
   "metadata": {},
   "outputs": [
    {
     "data": {
      "text/plain": [
       "0.9878151936243306"
      ]
     },
     "execution_count": 9,
     "metadata": {},
     "output_type": "execute_result"
    }
   ],
   "source": [
    "np.mean(f1_list)"
   ]
  },
  {
   "cell_type": "code",
   "execution_count": 10,
   "metadata": {},
   "outputs": [
    {
     "data": {
      "text/plain": [
       "0.9878787878787879"
      ]
     },
     "execution_count": 10,
     "metadata": {},
     "output_type": "execute_result"
    }
   ],
   "source": [
    "np.mean(acc_list)"
   ]
  }
 ],
 "metadata": {
  "kernelspec": {
   "display_name": "pace-up",
   "language": "python",
   "name": "python3"
  },
  "language_info": {
   "codemirror_mode": {
    "name": "ipython",
    "version": 3
   },
   "file_extension": ".py",
   "mimetype": "text/x-python",
   "name": "python",
   "nbconvert_exporter": "python",
   "pygments_lexer": "ipython3",
   "version": "3.11.9"
  }
 },
 "nbformat": 4,
 "nbformat_minor": 2
}
