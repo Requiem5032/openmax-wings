{
 "cells": [
  {
   "cell_type": "code",
   "execution_count": null,
   "metadata": {},
   "outputs": [],
   "source": [
    "import gc\n",
    "import torch\n",
    "import pandas as pd\n",
    "\n",
    "from functools import partial\n",
    "\n",
    "from utils.losses import MosLoss\n",
    "from utils.xception import Mos_Xception\n",
    "from utils.data_loader import get_data_loaders\n",
    "from utils.metrics import accuracy, macro_f1\n",
    "\n",
    "from fastai.vision.all import *\n",
    "from fastai.callback.tracker import SaveModelCallback"
   ]
  },
  {
   "cell_type": "code",
   "execution_count": null,
   "metadata": {},
   "outputs": [],
   "source": [
    "device = torch.device('cuda:0')"
   ]
  },
  {
   "cell_type": "code",
   "execution_count": null,
   "metadata": {},
   "outputs": [],
   "source": [
    "mom = 0.9531249799613819\n",
    "alpha = 0.7216872276263672\n",
    "eps = 0.02241164469571523\n",
    "wd = 0.04258532691804346"
   ]
  },
  {
   "cell_type": "code",
   "execution_count": null,
   "metadata": {},
   "outputs": [],
   "source": [
    "opt_func = partial(ranger, mom=mom, alpha=alpha, eps=eps)\n",
    "loss = MosLoss(7)\n",
    "metrics = [accuracy, macro_f1]"
   ]
  },
  {
   "cell_type": "code",
   "execution_count": null,
   "metadata": {},
   "outputs": [],
   "source": [
    "for fold in range(1, 6):\n",
    "    model_dir = f'model_weights/comparison/aedes_only/fold_{fold}'\n",
    "    data_csv_path = f'data/comparison/aedes_only/data_fold_{fold}.csv'\n",
    "\n",
    "    df = pd.read_csv(data_csv_path)\n",
    "    train_dl, val_dl = get_data_loaders(df)\n",
    "    dls = DataLoaders(train_dl, val_dl)\n",
    "    net = Mos_Xception(7)\n",
    "\n",
    "    learn = Learner(\n",
    "        dls,\n",
    "        net,\n",
    "        wd=wd,\n",
    "        opt_func=opt_func,\n",
    "        metrics=metrics,\n",
    "        loss_func=loss,\n",
    "        model_dir=model_dir,\n",
    "    )\n",
    "    cb = SaveModelCallback(monitor='macro_f1')\n",
    "    learn.fit_one_cycle(\n",
    "        60,\n",
    "        2e-03,\n",
    "        div=25,\n",
    "        pct_start=0.3,\n",
    "        cbs=[cb],\n",
    "    )\n",
    "\n",
    "    del learn\n",
    "    del net\n",
    "    gc.collect()\n",
    "    torch.cuda.empty_cache()"
   ]
  }
 ],
 "metadata": {
  "kernelspec": {
   "display_name": "pace-up",
   "language": "python",
   "name": "python3"
  },
  "language_info": {
   "codemirror_mode": {
    "name": "ipython",
    "version": 3
   },
   "file_extension": ".py",
   "mimetype": "text/x-python",
   "name": "python",
   "nbconvert_exporter": "python",
   "pygments_lexer": "ipython3",
   "version": "3.11.9"
  }
 },
 "nbformat": 4,
 "nbformat_minor": 2
}
