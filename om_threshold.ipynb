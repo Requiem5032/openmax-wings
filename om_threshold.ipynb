{
 "cells": [
  {
   "cell_type": "code",
   "execution_count": 1,
   "metadata": {},
   "outputs": [
    {
     "name": "stderr",
     "output_type": "stream",
     "text": [
      "/home/bit/miniforge3/envs/pace-up/lib/python3.11/site-packages/tqdm/auto.py:21: TqdmWarning: IProgress not found. Please update jupyter and ipywidgets. See https://ipywidgets.readthedocs.io/en/stable/user_install.html\n",
      "  from .autonotebook import tqdm as notebook_tqdm\n",
      "INFO:albumentations.check_version:A new version of Albumentations is available: 1.4.22 (you have 1.4.10). Upgrade using: pip install --upgrade albumentations\n"
     ]
    }
   ],
   "source": [
    "import torch\n",
    "import numpy as np\n",
    "import pandas as pd\n",
    "import utils.constants as const\n",
    "\n",
    "from utils.data_loader import get_thresh_data_loader\n",
    "from utils.xception import Mos_Xception\n",
    "from openmax.openmax import OpenMax\n",
    "from utils.data_split import get_species_map"
   ]
  },
  {
   "cell_type": "code",
   "execution_count": 2,
   "metadata": {},
   "outputs": [],
   "source": [
    "device = torch.device('cuda:0')"
   ]
  },
  {
   "cell_type": "code",
   "execution_count": 3,
   "metadata": {},
   "outputs": [],
   "source": [
    "species_map = get_species_map()\n",
    "species_list = species_map.values()"
   ]
  },
  {
   "cell_type": "code",
   "execution_count": 4,
   "metadata": {},
   "outputs": [],
   "source": [
    "thresh_list = []"
   ]
  },
  {
   "cell_type": "code",
   "execution_count": 5,
   "metadata": {},
   "outputs": [
    {
     "name": "stderr",
     "output_type": "stream",
     "text": [
      "/home/bit/miniforge3/envs/pace-up/lib/python3.11/site-packages/torch/nn/modules/conv.py:456: UserWarning: Applied workaround for CuDNN issue, install nvrtc.so (Triggered internally at /opt/conda/conda-bld/pytorch_1716905971190/work/aten/src/ATen/native/cudnn/Conv_v8.cpp:84.)\n",
      "  return F.conv2d(input, weight, bias, self.stride,\n"
     ]
    }
   ],
   "source": [
    "for fold in range(1, 6):\n",
    "    model_path = f'model_weights/fold_{fold}/model.pth'\n",
    "    data_csv_path = f'data/splits/data_fold_{fold}.csv'\n",
    "    weibull_path = f'weibull_models/fold_{fold}/weibull_model.pkl'\n",
    "\n",
    "    df = pd.read_csv(data_csv_path)\n",
    "    test_dl = get_thresh_data_loader(df)\n",
    "\n",
    "    net = Mos_Xception(const.NUM_CLASSES)\n",
    "    net.load_state_dict(torch.load(model_path))\n",
    "    net.to(device)\n",
    "    net.eval()\n",
    "\n",
    "    om_wraper = OpenMax(net, weibull_path)\n",
    "    thresh = om_wraper.get_thresh(test_dl)\n",
    "    thresh_list.append(thresh)"
   ]
  },
  {
   "cell_type": "code",
   "execution_count": 6,
   "metadata": {},
   "outputs": [],
   "source": [
    "thresh_df = pd.DataFrame(data=thresh_list, columns=['Threshold'])\n",
    "thresh_df.to_csv('results/om_thresh.csv', index=False)"
   ]
  }
 ],
 "metadata": {
  "kernelspec": {
   "display_name": "pace-up",
   "language": "python",
   "name": "python3"
  },
  "language_info": {
   "codemirror_mode": {
    "name": "ipython",
    "version": 3
   },
   "file_extension": ".py",
   "mimetype": "text/x-python",
   "name": "python",
   "nbconvert_exporter": "python",
   "pygments_lexer": "ipython3",
   "version": "3.11.9"
  }
 },
 "nbformat": 4,
 "nbformat_minor": 2
}
