{
 "cells": [
  {
   "cell_type": "code",
   "execution_count": 1,
   "metadata": {},
   "outputs": [
    {
     "name": "stderr",
     "output_type": "stream",
     "text": [
      "/home/bit/miniforge3/envs/pace-up/lib/python3.11/site-packages/tqdm/auto.py:21: TqdmWarning: IProgress not found. Please update jupyter and ipywidgets. See https://ipywidgets.readthedocs.io/en/stable/user_install.html\n",
      "  from .autonotebook import tqdm as notebook_tqdm\n",
      "INFO:albumentations.check_version:A new version of Albumentations is available: 1.4.22 (you have 1.4.10). Upgrade using: pip install --upgrade albumentations\n"
     ]
    }
   ],
   "source": [
    "import torch\n",
    "import numpy as np\n",
    "import pandas as pd\n",
    "import utils.constants as const\n",
    "\n",
    "from sklearn.metrics import confusion_matrix\n",
    "from utils.graph import draw_confusion_matrix\n",
    "from utils.data_loader import get_thresh_data_loader\n",
    "from utils.xception import Mos_Xception\n",
    "from sklearn.metrics import f1_score, precision_score, recall_score, accuracy_score\n",
    "from openmax.openmax import OpenMax\n",
    "from openmax.openmax_utils import convert_to_bin_label\n",
    "\n",
    "from utils.data_split import get_species_map"
   ]
  },
  {
   "cell_type": "code",
   "execution_count": 2,
   "metadata": {},
   "outputs": [],
   "source": [
    "device = torch.device('cuda:0')"
   ]
  },
  {
   "cell_type": "code",
   "execution_count": 3,
   "metadata": {},
   "outputs": [],
   "source": [
    "f1_bin_list = []\n",
    "pre_bin_list = []\n",
    "rec_bin_list = []\n",
    "acc_bin_list = []\n",
    "\n",
    "f1_int_list = []\n",
    "pre_int_list = []\n",
    "rec_int_list = []\n",
    "acc_int_list = []"
   ]
  },
  {
   "cell_type": "code",
   "execution_count": 4,
   "metadata": {},
   "outputs": [],
   "source": [
    "species_map = get_species_map()\n",
    "species_list = species_map.values()"
   ]
  },
  {
   "cell_type": "code",
   "execution_count": 5,
   "metadata": {},
   "outputs": [],
   "source": [
    "y_true_list = []\n",
    "y_pred_list = []"
   ]
  },
  {
   "cell_type": "code",
   "execution_count": 6,
   "metadata": {},
   "outputs": [
    {
     "name": "stderr",
     "output_type": "stream",
     "text": [
      "/home/bit/miniforge3/envs/pace-up/lib/python3.11/site-packages/torch/nn/modules/conv.py:456: UserWarning: Applied workaround for CuDNN issue, install nvrtc.so (Triggered internally at /opt/conda/conda-bld/pytorch_1716905971190/work/aten/src/ATen/native/cudnn/Conv_v8.cpp:84.)\n",
      "  return F.conv2d(input, weight, bias, self.stride,\n"
     ]
    }
   ],
   "source": [
    "for fold in range(1, 6):\n",
    "    model_path = f'model_weights/fold_{fold}/model.pth'\n",
    "    data_csv_path = f'data/splits/data_fold_{fold}.csv'\n",
    "    weibull_path = f'weibull_models/fold_{fold}/weibull_model.pkl'\n",
    "\n",
    "    df = pd.read_csv(data_csv_path)\n",
    "    test_dl = get_thresh_data_loader(df)\n",
    "\n",
    "    net = Mos_Xception(const.NUM_CLASSES)\n",
    "    net.load_state_dict(torch.load(model_path))\n",
    "    net.to(device)\n",
    "    net.eval()\n",
    "\n",
    "    y_true_int = []\n",
    "\n",
    "    for data in test_dl:\n",
    "        for label in data[1].numpy():\n",
    "            y_true_int.append(label)\n",
    "\n",
    "    y_true_int = np.asarray(y_true_int)\n",
    "    y_true_bin = convert_to_bin_label(y_true_int, const.NUM_CLASSES)\n",
    "\n",
    "    om_wraper = OpenMax(net, weibull_path)\n",
    "    y_pred_int = om_wraper.predict(test_dl)\n",
    "    y_pred_bin = convert_to_bin_label(y_pred_int, const.NUM_CLASSES)\n",
    "\n",
    "    y_true_list.append(y_true_int.ravel().tolist())\n",
    "    y_pred_list.append(y_pred_int.ravel().tolist())\n",
    "\n",
    "    f1_bin = f1_score(y_true_bin, y_pred_bin)\n",
    "    pre_bin = precision_score(y_true_bin, y_pred_bin)\n",
    "    rec_bin = recall_score(y_true_bin, y_pred_bin)\n",
    "    acc_bin = accuracy_score(y_true_bin, y_pred_bin)\n",
    "\n",
    "    f1_int = f1_score(y_true_int, y_pred_int, average='macro')\n",
    "    pre_int = precision_score(y_true_int, y_pred_int, average='macro')\n",
    "    rec_int = recall_score(y_true_int, y_pred_int, average='macro')\n",
    "    acc_int = accuracy_score(y_true_int, y_pred_int)\n",
    "\n",
    "    f1_bin_list.append(f1_bin)\n",
    "    pre_bin_list.append(pre_bin)\n",
    "    rec_bin_list.append(rec_bin)\n",
    "    acc_bin_list.append(acc_bin)\n",
    "\n",
    "    f1_int_list.append(f1_int)\n",
    "    pre_int_list.append(pre_int)\n",
    "    rec_int_list.append(rec_int)\n",
    "    acc_int_list.append(acc_int)"
   ]
  },
  {
   "cell_type": "code",
   "execution_count": 7,
   "metadata": {},
   "outputs": [],
   "source": [
    "y_true_list = sum(y_true_list, [])\n",
    "y_pred_list = sum(y_pred_list, [])"
   ]
  },
  {
   "cell_type": "code",
   "execution_count": 8,
   "metadata": {},
   "outputs": [],
   "source": [
    "results_df = pd.DataFrame()\n",
    "results_df['y_true'] = y_true_list\n",
    "results_df['y_pred'] = y_pred_list\n",
    "results_df.to_csv('results/open/prediction.csv', index=False)"
   ]
  },
  {
   "cell_type": "code",
   "execution_count": 9,
   "metadata": {},
   "outputs": [],
   "source": [
    "metrics_df = pd.DataFrame()\n",
    "metrics_df['f1_bin'] = f1_bin_list\n",
    "metrics_df['pre_bin'] = pre_bin_list\n",
    "metrics_df['rec_bin'] = rec_bin_list\n",
    "metrics_df['acc_bin'] = acc_bin_list\n",
    "\n",
    "metrics_df['f1_int'] = f1_int_list\n",
    "metrics_df['pre_int'] = pre_int_list\n",
    "metrics_df['rec_int'] = rec_int_list\n",
    "metrics_df['acc_int'] = acc_int_list"
   ]
  },
  {
   "cell_type": "code",
   "execution_count": 10,
   "metadata": {},
   "outputs": [],
   "source": [
    "metrics_df.to_csv('results/metrics.csv', index=False)"
   ]
  }
 ],
 "metadata": {
  "kernelspec": {
   "display_name": "pace-up",
   "language": "python",
   "name": "python3"
  },
  "language_info": {
   "codemirror_mode": {
    "name": "ipython",
    "version": 3
   },
   "file_extension": ".py",
   "mimetype": "text/x-python",
   "name": "python",
   "nbconvert_exporter": "python",
   "pygments_lexer": "ipython3",
   "version": "3.11.9"
  }
 },
 "nbformat": 4,
 "nbformat_minor": 2
}
