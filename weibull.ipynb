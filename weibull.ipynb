{
 "cells": [
  {
   "cell_type": "code",
   "execution_count": 1,
   "metadata": {
    "tags": []
   },
   "outputs": [
    {
     "name": "stderr",
     "output_type": "stream",
     "text": [
      "/home/bit/miniforge3/envs/pace-up/lib/python3.11/site-packages/tqdm/auto.py:21: TqdmWarning: IProgress not found. Please update jupyter and ipywidgets. See https://ipywidgets.readthedocs.io/en/stable/user_install.html\n",
      "  from .autonotebook import tqdm as notebook_tqdm\n",
      "INFO:albumentations.check_version:A new version of Albumentations is available: 1.4.20 (you have 1.4.10). Upgrade using: pip install --upgrade albumentations\n"
     ]
    }
   ],
   "source": [
    "import gc\n",
    "import torch\n",
    "import pandas as pd\n",
    "import utils.constants as const\n",
    "\n",
    "from utils.data_loader import get_data_loaders\n",
    "from utils.xception import Mos_Xception\n",
    "from openmax.openmax import create_model"
   ]
  },
  {
   "cell_type": "code",
   "execution_count": 2,
   "metadata": {},
   "outputs": [],
   "source": [
    "device = torch.device('cuda:0')"
   ]
  },
  {
   "cell_type": "code",
   "execution_count": 3,
   "metadata": {},
   "outputs": [],
   "source": [
    "for fold in range(1, 6):\n",
    "    model_path = f'model_weights/fold_{fold}/model.pth'\n",
    "    data_csv_path = f'data/splits/data_fold_{fold}.csv'\n",
    "    weibull_path = f'weibull_models/fold_{fold}/weibull_model.pkl'\n",
    "\n",
    "    df = pd.read_csv(data_csv_path)\n",
    "    train_dl, _ = get_data_loaders(df)\n",
    "\n",
    "    net = Mos_Xception(const.NUM_CLASSES)\n",
    "    net.load_state_dict(torch.load(model_path))\n",
    "    net.to(device)\n",
    "    net.eval()\n",
    "\n",
    "    weibull = create_model(net, train_dl, weibull_path)\n",
    "\n",
    "    del net\n",
    "    del weibull\n",
    "    gc.collect()\n",
    "    torch.cuda.empty_cache()"
   ]
  }
 ],
 "metadata": {
  "kernelspec": {
   "display_name": "pace-up",
   "language": "python",
   "name": "python3"
  },
  "language_info": {
   "codemirror_mode": {
    "name": "ipython",
    "version": 3
   },
   "file_extension": ".py",
   "mimetype": "text/x-python",
   "name": "python",
   "nbconvert_exporter": "python",
   "pygments_lexer": "ipython3",
   "version": "3.11.9"
  }
 },
 "nbformat": 4,
 "nbformat_minor": 2
}
